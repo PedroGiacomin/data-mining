{
 "cells": [
  {
   "cell_type": "markdown",
   "id": "2a80fde4",
   "metadata": {},
   "source": [
    "# Tratamento inicial dos dados"
   ]
  },
  {
   "cell_type": "markdown",
   "id": "b2d572f4",
   "metadata": {},
   "source": [
    "Objetivo:\n",
    "1. Carregar os dados;\n",
    "2. Selecionar as colunas que serão lidas;\n",
    "3. Fazer uma amostragem aleatória de 800.000 dados (~20% do dataset);\n",
    "4. Salvar em um novo ``.csv`` que seja mais leve"
   ]
  },
  {
   "cell_type": "markdown",
   "id": "6aa5348c",
   "metadata": {},
   "source": [
    "## Seleção de variáveis e amostragem dos dados"
   ]
  },
  {
   "cell_type": "markdown",
   "id": "0d29c790",
   "metadata": {},
   "source": [
    "**NOTA SOBRE O RESULTADO DA LLM:** O algoritmo gerado para selecionar e amostrar os dados foi bastante satisfatório, a não ser por um pequeno erro lógico no final: na fase ``# junta tudo``, o código tenta tirar novamente 800_000 amostras de uma lista que já tem (teoricamente) 800_000 amostras, então essa amostragem não faz sentido. Na prática, ainda, o código provavelmente vai gerar um erro, já que nosso banco não tem exatamente 4M registros e o resultado terá um pouco menos que 800k amostras."
   ]
  },
  {
   "cell_type": "code",
   "execution_count": null,
   "id": "1db2a3f4",
   "metadata": {},
   "outputs": [],
   "source": [
    "\"\"\"\"\n",
    "GERA O ARQUIVO SAMPLE, NÃO RODAR SE O ARQUIVO JÁ ESTIVER CRIADO\n",
    "\"\"\"\n",
    "\n",
    "import pandas as pd\n",
    "import numpy as np\n",
    "from pathlib import Path\n",
    "\n",
    "# Configurações\n",
    "DATA_PATH = Path().resolve() / 'data'\n",
    "ARQUIVO_ORIGEM_PATH = DATA_PATH / 'raw' / 'microdados_enem_2023.csv'\n",
    "ARQUIVO_DESTINO_PATH = DATA_PATH / 'raw' / 'microdados_enem_2023_sample.csv'\n",
    "\n",
    "colunas_desejadas = [\n",
    "    'NU_INSCRICAO', 'TP_FAIXA_ETARIA', 'TP_SEXO', 'TP_ESTADO_CIVIL', 'TP_COR_RACA',\n",
    "    'TP_NACIONALIDADE', 'TP_ST_CONCLUSAO', 'TP_ANO_CONCLUIU', 'TP_ESCOLA', 'TP_ENSINO',\n",
    "    'IN_TREINEIRO', 'CO_MUNICIPIO_ESC', 'TP_DEPENDENCIA_ADM_ESC', 'TP_LOCALIZACAO_ESC',\n",
    "    'TP_SIT_FUNC_ESC', 'CO_MUNICIPIO_PROVA', 'TP_PRESENCA_CN', 'TP_PRESENCA_CH',\n",
    "    'TP_PRESENCA_LC', 'TP_PRESENCA_MT', 'CO_PROVA_CN', 'CO_PROVA_CH', 'CO_PROVA_LC',\n",
    "    'CO_PROVA_MT', 'NU_NOTA_CN', 'NU_NOTA_CH', 'NU_NOTA_LC', 'NU_NOTA_MT', 'TP_LINGUA',\n",
    "    'TP_STATUS_REDACAO', 'NU_NOTA_COMP1', 'NU_NOTA_COMP2', 'NU_NOTA_COMP3', 'NU_NOTA_COMP4',\n",
    "    'NU_NOTA_COMP5', 'NU_NOTA_REDACAO', 'Q001', 'Q002', 'Q006', 'Q025'\n",
    "]\n",
    "\n",
    "# Parâmetros\n",
    "tamanho_amostra_final = 800_000\n",
    "tamanho_arquivo_total = 4_000_000  # Aproximadamente\n",
    "frac_amostragem = tamanho_amostra_final / tamanho_arquivo_total\n",
    "\n",
    "# Leitura em chunks\n",
    "chunk_size = 500_000\n",
    "amostras = []\n",
    "\n",
    "for chunk in pd.read_csv(ARQUIVO_ORIGEM_PATH, usecols=colunas_desejadas, chunksize=chunk_size, sep=';', encoding='latin1'):\n",
    "    amostra_chunk = chunk.sample(frac=frac_amostragem, random_state=553)\n",
    "    amostras.append(amostra_chunk)\n",
    "\n",
    "# Junta tudo\n",
    "# amostra_final = pd.concat(amostras).sample(n=tamanho_amostra_final, random_state=42) # resultado da LLM\n",
    "amostra_final = pd.concat(amostras)\n",
    "\n",
    "# Salva no CSV\n",
    "amostra_final.to_csv(ARQUIVO_DESTINO_PATH, index=False)\n",
    "\n",
    "print(f\"Amostra salva em {ARQUIVO_DESTINO_PATH}\")"
   ]
  },
  {
   "cell_type": "markdown",
   "id": "a0baeb25",
   "metadata": {},
   "source": [
    "## Leitura eficiente do dataframe amostrado"
   ]
  },
  {
   "cell_type": "markdown",
   "id": "42e972de",
   "metadata": {},
   "source": [
    "**NOTA SOBRE O RESULTADO DA LLM:** Constroi um dicionário de dtypes de forma inteligente, mas: i) faz um ``col for col ...`` desnecessariamente em ``colunas_float``. "
   ]
  },
  {
   "cell_type": "code",
   "execution_count": 1,
   "id": "1601b93a",
   "metadata": {},
   "outputs": [
    {
     "name": "stdout",
     "output_type": "stream",
     "text": [
      "========================================\n",
      "Memória usada: 180.46 MB\n",
      "Quantidade de colunas: 40\n",
      "Quantidade de linhas: 786791\n",
      "========================================\n",
      "\n",
      "Tipos de dados por coluna:\n",
      "NU_INSCRICAO              string[python]\n",
      "TP_FAIXA_ETARIA                 category\n",
      "TP_SEXO                         category\n",
      "TP_ESTADO_CIVIL                 category\n",
      "TP_COR_RACA                     category\n",
      "TP_NACIONALIDADE                category\n",
      "TP_ST_CONCLUSAO                 category\n",
      "TP_ANO_CONCLUIU                 category\n",
      "TP_ESCOLA                       category\n",
      "TP_ENSINO                       category\n",
      "IN_TREINEIRO                    category\n",
      "CO_MUNICIPIO_ESC          string[python]\n",
      "TP_DEPENDENCIA_ADM_ESC          category\n",
      "TP_LOCALIZACAO_ESC              category\n",
      "TP_SIT_FUNC_ESC                 category\n",
      "CO_MUNICIPIO_PROVA        string[python]\n",
      "TP_PRESENCA_CN                  category\n",
      "TP_PRESENCA_CH                  category\n",
      "TP_PRESENCA_LC                  category\n",
      "TP_PRESENCA_MT                  category\n",
      "CO_PROVA_CN                     category\n",
      "CO_PROVA_CH                     category\n",
      "CO_PROVA_LC                     category\n",
      "CO_PROVA_MT                     category\n",
      "NU_NOTA_CN                       float32\n",
      "NU_NOTA_CH                       float32\n",
      "NU_NOTA_LC                       float32\n",
      "NU_NOTA_MT                       float32\n",
      "TP_LINGUA                       category\n",
      "TP_STATUS_REDACAO               category\n",
      "NU_NOTA_COMP1                    float32\n",
      "NU_NOTA_COMP2                    float32\n",
      "NU_NOTA_COMP3                    float32\n",
      "NU_NOTA_COMP4                    float32\n",
      "NU_NOTA_COMP5                    float32\n",
      "NU_NOTA_REDACAO                  float32\n",
      "Q001                            category\n",
      "Q002                            category\n",
      "Q006                            category\n",
      "Q025                            category\n",
      "dtype: object\n"
     ]
    }
   ],
   "source": [
    "import pandas as pd\n",
    "import numpy as np\n",
    "from pathlib import Path\n",
    "\n",
    "# Configurações\n",
    "DATA_PATH = Path().resolve() / 'data'\n",
    "ARQUIVO_AMOSTRA_PATH = DATA_PATH / 'raw' / 'microdados_enem_2023_sample.csv'\n",
    "\n",
    "# Definição dos tipos\n",
    "colunas_float = [\n",
    "    'NU_NOTA_CN', 'NU_NOTA_CH', 'NU_NOTA_LC', 'NU_NOTA_MT',\n",
    "    'NU_NOTA_COMP1', 'NU_NOTA_COMP2', 'NU_NOTA_COMP3', 'NU_NOTA_COMP4',\n",
    "    'NU_NOTA_COMP5', 'NU_NOTA_REDACAO'\n",
    "]\n",
    "\n",
    "colunas_string = [\n",
    "    'NU_INSCRICAO', 'CO_MUNICIPIO_ESC', 'CO_MUNICIPIO_PROVA'\n",
    "]\n",
    "\n",
    "# Captura os nomes das colunas\n",
    "colunas = pd.read_csv(ARQUIVO_AMOSTRA_PATH, nrows=0, encoding='latin1').columns.tolist()\n",
    "\n",
    "# Preparar o dicionário de tipos\n",
    "dtypes = {}\n",
    "for col in colunas:\n",
    "    if col in colunas_float:\n",
    "        dtypes[col] = 'float32'\n",
    "    elif col in colunas_string:\n",
    "        dtypes[col] = 'string'\n",
    "    else:\n",
    "        dtypes[col] = 'category'\n",
    "\n",
    "# Leitura com tipos otimizados\n",
    "df = pd.read_csv(ARQUIVO_AMOSTRA_PATH, dtype=dtypes, encoding='latin1')\n",
    "\n",
    "# Informações para conferência\n",
    "print(\"=\"*40)\n",
    "print(f\"Memória usada: {df.memory_usage(deep=True).sum() / (1024 ** 2):.2f} MB\")\n",
    "print(f\"Quantidade de colunas: {df.shape[1]}\")\n",
    "print(f\"Quantidade de linhas: {df.shape[0]}\")\n",
    "print(\"=\"*40)\n",
    "\n",
    "# Tipos de dados\n",
    "print(\"\\nTipos de dados por coluna:\")\n",
    "print(df.dtypes)"
   ]
  },
  {
   "cell_type": "markdown",
   "id": "be4433dc",
   "metadata": {},
   "source": [
    "## Exploratory Data Analysis"
   ]
  },
  {
   "cell_type": "code",
   "execution_count": 2,
   "id": "af8c3e2c",
   "metadata": {},
   "outputs": [
    {
     "name": "stdout",
     "output_type": "stream",
     "text": [
      "\n",
      "Ano que concluiu:\n",
      "                 Frequência  Percentual (%)\n",
      "TP_ANO_CONCLUIU                            \n",
      "0                    448386           56.99\n",
      "1                     83779           10.65\n",
      "2                     52843            6.72\n",
      "17                    33560            4.27\n",
      "3                     29923            3.80\n",
      "4                     26964            3.43\n",
      "5                     20932            2.66\n",
      "6                     17226            2.19\n",
      "7                     13114            1.67\n",
      "8                     11043            1.40\n",
      "9                      9319            1.18\n",
      "10                     8082            1.03\n",
      "11                     7119            0.90\n",
      "12                     5774            0.73\n",
      "13                     5540            0.70\n",
      "14                     4823            0.61\n",
      "15                     4222            0.54\n",
      "16                     4142            0.53\n"
     ]
    }
   ],
   "source": [
    "# Checagem de valores nulos\n",
    "print(\"\\nAno que concluiu:\")\n",
    "nulos = df.isnull().sum()\n",
    "percentual_nulos = (nulos / len(df)) * 100\n",
    "\n",
    "\n",
    "tp_escola = df['TP_ANO_CONCLUIU'].value_counts(dropna=False)\n",
    "tp_escola_pct = df['TP_ANO_CONCLUIU'].value_counts(normalize=True, dropna=False) * 100\n",
    "\n",
    "resultado = pd.DataFrame({\n",
    "    'Frequência': tp_escola,\n",
    "    'Percentual (%)': tp_escola_pct.round(2)\n",
    "})\n",
    "\n",
    "print(resultado)"
   ]
  },
  {
   "cell_type": "code",
   "execution_count": 3,
   "id": "5df08137",
   "metadata": {},
   "outputs": [
    {
     "name": "stdout",
     "output_type": "stream",
     "text": [
      "\n",
      "Conclusão:\n",
      "                 Frequência  Percentual (%)\n",
      "TP_ST_CONCLUSAO                            \n",
      "1                    379427           48.22\n",
      "2                    280154           35.61\n",
      "3                    123745           15.73\n",
      "4                      3465            0.44\n"
     ]
    }
   ],
   "source": [
    "# Checagem de valores nulos\n",
    "print(\"\\nConclusão:\")\n",
    "nulos = df.isnull().sum()\n",
    "percentual_nulos = (nulos / len(df)) * 100\n",
    "\n",
    "\n",
    "tp_escola = df['TP_ST_CONCLUSAO'].value_counts(dropna=False)\n",
    "tp_escola_pct = df['TP_ST_CONCLUSAO'].value_counts(normalize=True, dropna=False) * 100\n",
    "\n",
    "resultado = pd.DataFrame({\n",
    "    'Frequência': tp_escola,\n",
    "    'Percentual (%)': tp_escola_pct.round(2)\n",
    "})\n",
    "\n",
    "print(resultado)"
   ]
  },
  {
   "cell_type": "code",
   "execution_count": null,
   "id": "851d38e2",
   "metadata": {},
   "outputs": [
    {
     "name": "stdout",
     "output_type": "stream",
     "text": [
      "                  Total  Percentual (%)\n",
      "TP_ST_CONCLUSAO                        \n",
      "1                 41022            9.15\n",
      "2                280154           62.48\n",
      "3                123745           27.60\n",
      "4                  3465            0.77\n",
      "448386\n"
     ]
    },
    {
     "name": "stderr",
     "output_type": "stream",
     "text": [
      "/tmp/ipykernel_42591/3863778741.py:2: FutureWarning: The default of observed=False is deprecated and will be changed to True in a future version of pandas. Pass observed=False to retain current behavior or observed=True to adopt the future default and silence this warning.\n",
      "  grupo = filtro.groupby('TP_ST_CONCLUSAO')['NU_INSCRICAO']\n"
     ]
    }
   ],
   "source": [
    "\n",
    "filtro = df[df['TP_ANO_CONCLUIU'] == '0']\n",
    "grupo = filtro.groupby('TP_ST_CONCLUSAO', dropna=False)['NU_INSCRICAO']\n",
    "\n",
    "resultado = pd.DataFrame({\n",
    "    'Total': grupo.count()\n",
    "})\n",
    "\n",
    "resultado['Percentual (%)'] = (resultado['Total'] / resultado['Total'].sum() * 100).round(2)\n",
    "\n",
    "print(resultado)\n",
    "print(resultado['Total'].sum())"
   ]
  },
  {
   "cell_type": "code",
   "execution_count": 18,
   "id": "487e053e",
   "metadata": {},
   "outputs": [
    {
     "data": {
      "text/plain": [
       "NU_INSCRICAO              407364\n",
       "TP_FAIXA_ETARIA           407364\n",
       "TP_SEXO                   407364\n",
       "TP_ESTADO_CIVIL           407364\n",
       "TP_COR_RACA               407364\n",
       "TP_NACIONALIDADE          407364\n",
       "TP_ST_CONCLUSAO           407364\n",
       "TP_ANO_CONCLUIU           407364\n",
       "TP_ESCOLA                 407364\n",
       "TP_ENSINO                 267749\n",
       "IN_TREINEIRO              407364\n",
       "CO_MUNICIPIO_ESC          191881\n",
       "TP_DEPENDENCIA_ADM_ESC    191881\n",
       "TP_LOCALIZACAO_ESC        191881\n",
       "TP_SIT_FUNC_ESC           191881\n",
       "CO_MUNICIPIO_PROVA        407364\n",
       "TP_PRESENCA_CN            407364\n",
       "TP_PRESENCA_CH            407364\n",
       "TP_PRESENCA_LC            407364\n",
       "TP_PRESENCA_MT            407364\n",
       "CO_PROVA_CN               316098\n",
       "CO_PROVA_CH               331719\n",
       "CO_PROVA_LC               331719\n",
       "CO_PROVA_MT               316098\n",
       "NU_NOTA_CN                316098\n",
       "NU_NOTA_CH                331719\n",
       "NU_NOTA_LC                331719\n",
       "NU_NOTA_MT                316098\n",
       "TP_LINGUA                 407364\n",
       "TP_STATUS_REDACAO         331719\n",
       "NU_NOTA_COMP1             331719\n",
       "NU_NOTA_COMP2             331719\n",
       "NU_NOTA_COMP3             331719\n",
       "NU_NOTA_COMP4             331719\n",
       "NU_NOTA_COMP5             331719\n",
       "NU_NOTA_REDACAO           331719\n",
       "Q001                      407364\n",
       "Q002                      407364\n",
       "Q006                      407364\n",
       "Q025                      407364\n",
       "dtype: int64"
      ]
     },
     "execution_count": 18,
     "metadata": {},
     "output_type": "execute_result"
    }
   ],
   "source": [
    "df[df['TP_ST_CONCLUSAO'] != '1'].count()"
   ]
  },
  {
   "cell_type": "code",
   "execution_count": 19,
   "id": "6bdf8ac9",
   "metadata": {},
   "outputs": [
    {
     "name": "stdout",
     "output_type": "stream",
     "text": [
      "1107 \t 0.19608746173903185\n",
      "563437 \t 99.80391253826097\n",
      "564544 \t 100.0\n"
     ]
    }
   ],
   "source": [
    "tirou0 = df.NU_NOTA_CH[df.NU_NOTA_CH == 0].count()\n",
    "tirou_mais_q_0 = df.NU_NOTA_CH[df.NU_NOTA_CH > 0].count()\n",
    "total = df.NU_NOTA_CH.count()\n",
    "\n",
    "print(tirou0, '\\t', 100.0*tirou0/total)\n",
    "print(tirou_mais_q_0, '\\t', 100.0*tirou_mais_q_0/total)\n",
    "print(total, '\\t', 100.0*total/total)"
   ]
  },
  {
   "cell_type": "code",
   "execution_count": 20,
   "id": "376a0b40",
   "metadata": {},
   "outputs": [
    {
     "name": "stderr",
     "output_type": "stream",
     "text": [
      "/tmp/ipykernel_42591/4160640221.py:1: FutureWarning: The default of observed=False is deprecated and will be changed to True in a future version of pandas. Pass observed=False to retain current behavior or observed=True to adopt the future default and silence this warning.\n",
      "  df[df.NU_NOTA_CH == 0].groupby('TP_PRESENCA_CH').count()\n"
     ]
    },
    {
     "data": {
      "text/html": [
       "<div>\n",
       "<style scoped>\n",
       "    .dataframe tbody tr th:only-of-type {\n",
       "        vertical-align: middle;\n",
       "    }\n",
       "\n",
       "    .dataframe tbody tr th {\n",
       "        vertical-align: top;\n",
       "    }\n",
       "\n",
       "    .dataframe thead th {\n",
       "        text-align: right;\n",
       "    }\n",
       "</style>\n",
       "<table border=\"1\" class=\"dataframe\">\n",
       "  <thead>\n",
       "    <tr style=\"text-align: right;\">\n",
       "      <th></th>\n",
       "      <th>NU_INSCRICAO</th>\n",
       "      <th>TP_FAIXA_ETARIA</th>\n",
       "      <th>TP_SEXO</th>\n",
       "      <th>TP_ESTADO_CIVIL</th>\n",
       "      <th>TP_COR_RACA</th>\n",
       "      <th>TP_NACIONALIDADE</th>\n",
       "      <th>TP_ST_CONCLUSAO</th>\n",
       "      <th>TP_ANO_CONCLUIU</th>\n",
       "      <th>TP_ESCOLA</th>\n",
       "      <th>TP_ENSINO</th>\n",
       "      <th>...</th>\n",
       "      <th>NU_NOTA_COMP1</th>\n",
       "      <th>NU_NOTA_COMP2</th>\n",
       "      <th>NU_NOTA_COMP3</th>\n",
       "      <th>NU_NOTA_COMP4</th>\n",
       "      <th>NU_NOTA_COMP5</th>\n",
       "      <th>NU_NOTA_REDACAO</th>\n",
       "      <th>Q001</th>\n",
       "      <th>Q002</th>\n",
       "      <th>Q006</th>\n",
       "      <th>Q025</th>\n",
       "    </tr>\n",
       "    <tr>\n",
       "      <th>TP_PRESENCA_CH</th>\n",
       "      <th></th>\n",
       "      <th></th>\n",
       "      <th></th>\n",
       "      <th></th>\n",
       "      <th></th>\n",
       "      <th></th>\n",
       "      <th></th>\n",
       "      <th></th>\n",
       "      <th></th>\n",
       "      <th></th>\n",
       "      <th></th>\n",
       "      <th></th>\n",
       "      <th></th>\n",
       "      <th></th>\n",
       "      <th></th>\n",
       "      <th></th>\n",
       "      <th></th>\n",
       "      <th></th>\n",
       "      <th></th>\n",
       "      <th></th>\n",
       "      <th></th>\n",
       "    </tr>\n",
       "  </thead>\n",
       "  <tbody>\n",
       "    <tr>\n",
       "      <th>0</th>\n",
       "      <td>0</td>\n",
       "      <td>0</td>\n",
       "      <td>0</td>\n",
       "      <td>0</td>\n",
       "      <td>0</td>\n",
       "      <td>0</td>\n",
       "      <td>0</td>\n",
       "      <td>0</td>\n",
       "      <td>0</td>\n",
       "      <td>0</td>\n",
       "      <td>...</td>\n",
       "      <td>0</td>\n",
       "      <td>0</td>\n",
       "      <td>0</td>\n",
       "      <td>0</td>\n",
       "      <td>0</td>\n",
       "      <td>0</td>\n",
       "      <td>0</td>\n",
       "      <td>0</td>\n",
       "      <td>0</td>\n",
       "      <td>0</td>\n",
       "    </tr>\n",
       "    <tr>\n",
       "      <th>1</th>\n",
       "      <td>1107</td>\n",
       "      <td>1107</td>\n",
       "      <td>1107</td>\n",
       "      <td>1107</td>\n",
       "      <td>1107</td>\n",
       "      <td>1107</td>\n",
       "      <td>1107</td>\n",
       "      <td>1107</td>\n",
       "      <td>1107</td>\n",
       "      <td>377</td>\n",
       "      <td>...</td>\n",
       "      <td>1107</td>\n",
       "      <td>1107</td>\n",
       "      <td>1107</td>\n",
       "      <td>1107</td>\n",
       "      <td>1107</td>\n",
       "      <td>1107</td>\n",
       "      <td>1107</td>\n",
       "      <td>1107</td>\n",
       "      <td>1107</td>\n",
       "      <td>1107</td>\n",
       "    </tr>\n",
       "    <tr>\n",
       "      <th>2</th>\n",
       "      <td>0</td>\n",
       "      <td>0</td>\n",
       "      <td>0</td>\n",
       "      <td>0</td>\n",
       "      <td>0</td>\n",
       "      <td>0</td>\n",
       "      <td>0</td>\n",
       "      <td>0</td>\n",
       "      <td>0</td>\n",
       "      <td>0</td>\n",
       "      <td>...</td>\n",
       "      <td>0</td>\n",
       "      <td>0</td>\n",
       "      <td>0</td>\n",
       "      <td>0</td>\n",
       "      <td>0</td>\n",
       "      <td>0</td>\n",
       "      <td>0</td>\n",
       "      <td>0</td>\n",
       "      <td>0</td>\n",
       "      <td>0</td>\n",
       "    </tr>\n",
       "  </tbody>\n",
       "</table>\n",
       "<p>3 rows × 39 columns</p>\n",
       "</div>"
      ],
      "text/plain": [
       "                NU_INSCRICAO  TP_FAIXA_ETARIA  TP_SEXO  TP_ESTADO_CIVIL  \\\n",
       "TP_PRESENCA_CH                                                            \n",
       "0                          0                0        0                0   \n",
       "1                       1107             1107     1107             1107   \n",
       "2                          0                0        0                0   \n",
       "\n",
       "                TP_COR_RACA  TP_NACIONALIDADE  TP_ST_CONCLUSAO  \\\n",
       "TP_PRESENCA_CH                                                   \n",
       "0                         0                 0                0   \n",
       "1                      1107              1107             1107   \n",
       "2                         0                 0                0   \n",
       "\n",
       "                TP_ANO_CONCLUIU  TP_ESCOLA  TP_ENSINO  ...  NU_NOTA_COMP1  \\\n",
       "TP_PRESENCA_CH                                         ...                  \n",
       "0                             0          0          0  ...              0   \n",
       "1                          1107       1107        377  ...           1107   \n",
       "2                             0          0          0  ...              0   \n",
       "\n",
       "                NU_NOTA_COMP2  NU_NOTA_COMP3  NU_NOTA_COMP4  NU_NOTA_COMP5  \\\n",
       "TP_PRESENCA_CH                                                               \n",
       "0                           0              0              0              0   \n",
       "1                        1107           1107           1107           1107   \n",
       "2                           0              0              0              0   \n",
       "\n",
       "                NU_NOTA_REDACAO  Q001  Q002  Q006  Q025  \n",
       "TP_PRESENCA_CH                                           \n",
       "0                             0     0     0     0     0  \n",
       "1                          1107  1107  1107  1107  1107  \n",
       "2                             0     0     0     0     0  \n",
       "\n",
       "[3 rows x 39 columns]"
      ]
     },
     "execution_count": 20,
     "metadata": {},
     "output_type": "execute_result"
    }
   ],
   "source": [
    "df[df.NU_NOTA_CH == 0].groupby('TP_PRESENCA_CH').count()"
   ]
  },
  {
   "cell_type": "code",
   "execution_count": null,
   "id": "654e19fb",
   "metadata": {},
   "outputs": [
    {
     "ename": "",
     "evalue": "",
     "output_type": "error",
     "traceback": [
      "\u001b[1;31mThe Kernel crashed while executing code in the current cell or a previous cell. \n",
      "\u001b[1;31mPlease review the code in the cell(s) to identify a possible cause of the failure. \n",
      "\u001b[1;31mClick <a href='https://aka.ms/vscodeJupyterKernelCrash'>here</a> for more info. \n",
      "\u001b[1;31mView Jupyter <a href='command:jupyter.viewOutput'>log</a> for further details."
     ]
    }
   ],
   "source": [
    "import pandas as pd\n",
    "import seaborn as sns\n",
    "import matplotlib.pyplot as plt\n",
    "\n",
    "# Tabela cruzada entre duas colunas categóricas\n",
    "tabela = pd.crosstab(df['TP_ANO_CONCLUIU'], df['TP_ST_CONCLUSAO'][df['TP_ST_CONCLUSAO'] == 0])\n",
    "\n",
    "# Heatmap\n",
    "sns.heatmap(tabela, annot=True, fmt='d', cmap='Blues')\n",
    "plt.xlabel('COLUNA2')\n",
    "plt.ylabel('COLUNA1')\n",
    "plt.title('Heatmap entre COLUNA1 e COLUNA2')\n",
    "plt.show()"
   ]
  },
  {
   "cell_type": "code",
   "execution_count": 3,
   "id": "d976d7aa",
   "metadata": {},
   "outputs": [
    {
     "name": "stdout",
     "output_type": "stream",
     "text": [
      "\n",
      "Valores nulos por coluna:\n",
      "                        Valores Nulos  Percentual Nulos (%)\n",
      "NU_INSCRICAO                        0              0.000000\n",
      "TP_FAIXA_ETARIA                     0              0.000000\n",
      "TP_SEXO                             0              0.000000\n",
      "TP_ESTADO_CIVIL                     0              0.000000\n",
      "TP_COR_RACA                         0              0.000000\n",
      "TP_NACIONALIDADE                    0              0.000000\n",
      "TP_ST_CONCLUSAO                     0              0.000000\n",
      "TP_ANO_CONCLUIU                     0              0.000000\n",
      "TP_ESCOLA                           0              0.000000\n",
      "TP_ENSINO                      519042             65.969489\n",
      "IN_TREINEIRO                        0              0.000000\n",
      "CO_MUNICIPIO_ESC               594910             75.612202\n",
      "TP_DEPENDENCIA_ADM_ESC         594910             75.612202\n",
      "TP_LOCALIZACAO_ESC             594910             75.612202\n",
      "TP_SIT_FUNC_ESC                594910             75.612202\n",
      "CO_MUNICIPIO_PROVA                  0              0.000000\n",
      "TP_PRESENCA_CN                      0              0.000000\n",
      "TP_PRESENCA_CH                      0              0.000000\n",
      "TP_PRESENCA_LC                      0              0.000000\n",
      "TP_PRESENCA_MT                      0              0.000000\n",
      "CO_PROVA_CN                    248472             31.580432\n",
      "CO_PROVA_CH                    222247             28.247273\n",
      "CO_PROVA_LC                    222247             28.247273\n",
      "CO_PROVA_MT                    248472             31.580432\n",
      "NU_NOTA_CN                     248472             31.580432\n",
      "NU_NOTA_CH                     222247             28.247273\n",
      "NU_NOTA_LC                     222247             28.247273\n",
      "NU_NOTA_MT                     248472             31.580432\n",
      "TP_LINGUA                           0              0.000000\n",
      "TP_STATUS_REDACAO              222247             28.247273\n",
      "NU_NOTA_COMP1                  222247             28.247273\n",
      "NU_NOTA_COMP2                  222247             28.247273\n",
      "NU_NOTA_COMP3                  222247             28.247273\n",
      "NU_NOTA_COMP4                  222247             28.247273\n",
      "NU_NOTA_COMP5                  222247             28.247273\n",
      "NU_NOTA_REDACAO                222247             28.247273\n",
      "Q001                                0              0.000000\n",
      "Q002                                0              0.000000\n",
      "Q006                                0              0.000000\n",
      "Q025                                0              0.000000\n"
     ]
    }
   ],
   "source": [
    "# Checagem de valores nulos\n",
    "print(\"\\nValores nulos por coluna:\")\n",
    "nulos = df.isnull().sum()\n",
    "percentual_nulos = (nulos / len(df)) * 100\n",
    "\n",
    "# Criando um dataframe com os valores absolutos e percentuais\n",
    "df_nulos = pd.DataFrame({\n",
    "    'Valores Nulos': nulos,\n",
    "    'Percentual Nulos (%)': percentual_nulos\n",
    "})\n",
    "\n",
    "# Exibindo o dataframe de nulos\n",
    "print(df_nulos)"
   ]
  },
  {
   "cell_type": "code",
   "execution_count": null,
   "id": "ef1cff36",
   "metadata": {},
   "outputs": [
    {
     "name": "stdout",
     "output_type": "stream",
     "text": [
      "\n",
      "Tipo de escola:\n",
      "           Frequência  Percentual (%)\n",
      "TP_ESCOLA                            \n",
      "1              506638           64.39\n",
      "2              233307           29.65\n",
      "3               46846            5.95\n"
     ]
    }
   ],
   "source": [
    "# Checagem de valores nulos\n",
    "print(\"\\nTipo de escola:\")\n",
    "\n",
    "tp_escola = df['TP_ESCOLA'].value_counts(dropna=False)\n",
    "tp_escola_pct = df['TP_ESCOLA'].value_counts(normalize=True, dropna=False) * 100\n",
    "\n",
    "resultado = pd.DataFrame({\n",
    "    'Frequência': tp_escola,\n",
    "    'Percentual (%)': tp_escola_pct.round(2)\n",
    "})\n",
    "\n",
    "print(resultado)"
   ]
  },
  {
   "cell_type": "code",
   "execution_count": null,
   "id": "6687a0be",
   "metadata": {},
   "outputs": [
    {
     "ename": "",
     "evalue": "",
     "output_type": "error",
     "traceback": [
      "\u001b[1;31mThe Kernel crashed while executing code in the current cell or a previous cell. \n",
      "\u001b[1;31mPlease review the code in the cell(s) to identify a possible cause of the failure. \n",
      "\u001b[1;31mClick <a href='https://aka.ms/vscodeJupyterKernelCrash'>here</a> for more info. \n",
      "\u001b[1;31mView Jupyter <a href='command:jupyter.viewOutput'>log</a> for further details."
     ]
    }
   ],
   "source": [
    "median = df.NU_NOTA_MT.median() \n",
    "acima_da_mediana = df.NU_NOTA_MT[df.NU_NOTA_MT > median]\n",
    "\n",
    "df.groupby().agg({'NU_NOTA_MT': 'mean', 'SEXO': 'count'})"
   ]
  },
  {
   "cell_type": "code",
   "execution_count": 6,
   "id": "41176861",
   "metadata": {},
   "outputs": [
    {
     "name": "stdout",
     "output_type": "stream",
     "text": [
      "\n",
      "Tipo de ensino:\n",
      "           Frequência  Percentual (%)\n",
      "TP_ENSINO                            \n",
      "NaN            519042           65.97\n",
      "1.0            266392           33.86\n",
      "2.0              1357            0.17\n"
     ]
    }
   ],
   "source": [
    "# Checagem de valores nulos\n",
    "print(\"\\nTipo de ensino:\")\n",
    "\n",
    "tp_escola = df['TP_ENSINO'].value_counts(dropna=False)\n",
    "tp_escola_pct = df['TP_ENSINO'].value_counts(normalize=True, dropna=False) * 100\n",
    "\n",
    "resultado = pd.DataFrame({\n",
    "    'Frequência': tp_escola,\n",
    "    'Percentual (%)': tp_escola_pct.round(2)\n",
    "})\n",
    "\n",
    "print(resultado)"
   ]
  },
  {
   "cell_type": "code",
   "execution_count": 5,
   "id": "044acce0",
   "metadata": {},
   "outputs": [
    {
     "name": "stdout",
     "output_type": "stream",
     "text": [
      "\n",
      "Presença Mat:\n",
      "                Frequência  Percentual (%)\n",
      "TP_PRESENCA_MT                            \n",
      "1                   538319           68.42\n",
      "0                   247988           31.52\n",
      "2                      484            0.06\n"
     ]
    }
   ],
   "source": [
    "# Checagem de valores nulos\n",
    "print(\"\\nPresença Mat:\")\n",
    "\n",
    "tp_escola = df['TP_PRESENCA_MT'].value_counts(dropna=False)\n",
    "tp_escola_pct = df['TP_PRESENCA_MT'].value_counts(normalize=True, dropna=False) * 100\n",
    "\n",
    "resultado = pd.DataFrame({\n",
    "    'Frequência': tp_escola,\n",
    "    'Percentual (%)': tp_escola_pct.round(2)\n",
    "})\n",
    "\n",
    "print(resultado)"
   ]
  },
  {
   "cell_type": "code",
   "execution_count": null,
   "id": "a7723cda",
   "metadata": {},
   "outputs": [
    {
     "ename": "",
     "evalue": "",
     "output_type": "error",
     "traceback": [
      "\u001b[1;31mThe Kernel crashed while executing code in the current cell or a previous cell. \n",
      "\u001b[1;31mPlease review the code in the cell(s) to identify a possible cause of the failure. \n",
      "\u001b[1;31mClick <a href='https://aka.ms/vscodeJupyterKernelCrash'>here</a> for more info. \n",
      "\u001b[1;31mView Jupyter <a href='command:jupyter.viewOutput'>log</a> for further details."
     ]
    }
   ],
   "source": [
    "# Checagem de valores nulos\n",
    "print(\"\\n:\")\n",
    "\n",
    "tp_escola = df['TP_PRESENCA_MT'].value_counts(dropna=False)\n",
    "tp_escola_pct = df['TP_PRESENCA_MT'].value_counts(normalize=True, dropna=False) * 100\n",
    "\n",
    "resultado = pd.DataFrame({\n",
    "    'Frequência': tp_escola,\n",
    "    'Percentual (%)': tp_escola_pct.round(2)\n",
    "})\n",
    "\n",
    "print(resultado)\n"
   ]
  }
 ],
 "metadata": {
  "kernelspec": {
   "display_name": "geo-env",
   "language": "python",
   "name": "python3"
  },
  "language_info": {
   "codemirror_mode": {
    "name": "ipython",
    "version": 3
   },
   "file_extension": ".py",
   "mimetype": "text/x-python",
   "name": "python",
   "nbconvert_exporter": "python",
   "pygments_lexer": "ipython3",
   "version": "3.13.2"
  }
 },
 "nbformat": 4,
 "nbformat_minor": 5
}
