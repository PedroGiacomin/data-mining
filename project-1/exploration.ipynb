{
 "cells": [
  {
   "cell_type": "markdown",
   "id": "7ab7018d",
   "metadata": {},
   "source": [
    "# Análise do Dataset"
   ]
  },
  {
   "cell_type": "markdown",
   "id": "924bf8ee",
   "metadata": {},
   "source": [
    "O dataset utilizado foram os Microdados do ENEM de 2023, disponíveis no endereço https://www.gov.br/inep/pt-br/acesso-a-informacao/dados-abertos/microdados/enem. O arquivo é disponibilizado no formato ``.csv`` e contém os dados dos 3,9 milhões de participantes do Exame Nacional do Ensino Médio nesse ano. \n",
    "\n",
    "Cada registro no dataset diz respeito a um candidato inscrito, e os dados disponíveis são \n",
    "  1. Dados do participante (escolaridade, faixa etária, raça etc.)\n",
    "  2. Dados da escola onde o participante estudou\n",
    "  3. Dados do local de aplicação de prova\n",
    "  4. Dados da prova objetiva (presença e notas)\n",
    "  5. Dados da redação (presença e notas)\n",
    "  6. Dados do questionário socioeconômico\n",
    "\n",
    "Devido à formatação do banco, cada participante pode ser modelado como uma transação. \n",
    "  - As características binárias podem ser modeladas diretamente como itens. Ex.: Sexo, Presença\n",
    "  - As características categóricas devem ser codificadas em binárias, usando one-hot encoding, por exemplo. Ex.: Escolaridade, Estado\n",
    "  - As características numéricas devem ser agrupadas em faixas (como categorias) e depois codificadas em binárias. Ex.: Nota da redação > 900  ->  Nota alta na redação\n",
    "\n",
    "_Obs.: Os critérios para o agrupamento de variáveis numéricas e categóricas serão melhor abordados a partir da fase 2, e levarão em conta a distribuição dos valores da variável._"
   ]
  },
  {
   "cell_type": "markdown",
   "id": "8d4ee26d",
   "metadata": {},
   "source": [
    "A descrição dos dados é apresentada a seguir\n"
   ]
  },
  {
   "cell_type": "markdown",
   "id": "119902a7",
   "metadata": {},
   "source": [
    "\n",
    "| Coluna               | Descrição                                  | Tipo       |\n",
    "|----------------------|--------------------------------------------|----------  |\n",
    "|**1. Dados do Participante**|    | |\n",
    "| `NU_INSCRICAO`       | Número de inscrição                        | Numérico   |\n",
    "| `TP_FAIXA_ETARIA`    | Faixa etária                               | Categórico |\n",
    "| `TP_SEXO`            | Sexo                                       | Categórico |\n",
    "| `TP_ESTADO_CIVIL`    | Estado Civil                               | Categórico |\n",
    "| `TP_COR_RACA`        | Cor/raça                                   | Categórico |\n",
    "| `TP_NACIONALIDADE`   | Nacionalidade                              | Categórico |\n",
    "| `TP_ST_CONCLUSAO`    | Situação de conclusão do Ensino Médio      | Categórico |\n",
    "| `TP_ANO_CONCLUIU`    | Ano de Conclusão do Ensino Médio           | Categórico |\n",
    "|**2. Dados da escola**|    | |\n",
    "| `CO_MUNICIPIO_ESC`        | Código do município da escola | Numérico   |\n",
    "| `SG_UF_ESC`               | Sigla da Unidade da Federação da escola   | Categórico |\n",
    "| `TP_DEPENDENCIA_ADM_ESC`  | Dependência administrativa da escola      | Categórico |\n",
    "| `TP_LOCALIZACAO_ESC`      | Localização da escola                      | Categórico |\n",
    "| `TP_SIT_FUNC_ESC`         | Situação de funcionamento da escola        | Categórico |\n",
    "|**3. Dados do local de aplicação**|    | |\n",
    "| `CO_MUNICIPIO_PROVA`        | Código do município de aplicação da prova | Numérico   |\n",
    "| `SG_UF_PROVA`               | Sigla da Unidade da Federação de aplicação da prova  | Categórico |\n",
    "|**4. Dados da prova objetiva**|    | |\n",
    "| `TP_PRESENCA_CN`  | Presença na prova objetiva de Ciências da Natureza                    | Categórico |\n",
    "| `TP_PRESENCA_CH`  | Presença na prova objetiva de Ciências Humanas                        | Categórico |\n",
    "| `TP_PRESENCA_LC`  | Presença na prova objetiva de Linguagens e Códigos                    | Categórico |\n",
    "| `TP_PRESENCA_MT`  | Presença na prova objetiva de Matemática                              | Categórico |\n",
    "| `NU_NOTA_CN`      | Nota da prova de Ciências da Natureza                                 | Numérico   |\n",
    "| `NU_NOTA_CH`      | Nota da prova de Ciências Humanas                                     | Numérico   |\n",
    "| `NU_NOTA_LC`      | Nota da prova de Linguagens e Códigos                                 | Numérico   |\n",
    "| `NU_NOTA_MT`      | Nota da prova de Matemática                                           | Numérico   |\n",
    "| `TP_LINGUA`       | Língua Estrangeira                                                    | Categórico |\n",
    "|**5. Dados da redação**|    | |\n",
    "| `TP_STATUS_REDACAO`| Situação da redação do participante                                                                                          | Categórico |\n",
    "| `NU_NOTA_COMP1`    | Nota da competência 1 - Domínio da modalidade escrita formal da Língua Portuguesa                                            | Numérico   |\n",
    "| `NU_NOTA_COMP2`    | Nota da competência 2 - Compreensão da proposta e desenvolvimento do tema                                                    | Numérico   |\n",
    "| `NU_NOTA_COMP3`    | Nota da competência 3 - Seleção e organização de argumentos                                                                  | Numérico   |\n",
    "| `NU_NOTA_COMP4`    | Nota da competência 4 - Uso de mecanismos linguísticos                                                                       | Numérico   |\n",
    "| `NU_NOTA_COMP5`    | Nota da competência 5 - Proposta de intervenção com respeito aos direitos humanos                                            | Numérico   |\n",
    "| `NU_NOTA_REDACAO`  | Nota total da prova de redação                                                                                               | Numérico   |\n",
    "|**6. Dados do questionário socioeconômico**|    | |\n",
    "| `Q002` | Escolaridade da mãe (ou mulher responsável)                                                                                              | Categórico |\n",
    "| `Q003` | Ocupação do pai (ou homem responsável)                                                                                                   | Categórico |\n",
    "| `Q006` | Renda familiar mensal                                                                                                                    | Categórico |\n",
    "| `Q025` | Acesso à Internet na residência                                                                                                          | Categórico |"
   ]
  },
  {
   "cell_type": "code",
   "execution_count": null,
   "id": "6a3ba2d4",
   "metadata": {},
   "outputs": [],
   "source": [
    "import pathlib\n",
    "import pandas as pd\n",
    "\n",
    "# Directory definitions\n",
    "RAW_DATA_PATH = pathlib.Path('~/data_projects/microdados_enem_2023/DADOS') \n",
    "PROCESSED_DATA_PATH = pathlib.Path.cwd() / 'processed'  \n",
    "\n",
    "# Read the column names from the CSV file\n",
    "cols = pd.read_csv(RAW_DATA_PATH / 'MICRODADOS_ENEM_2023.csv', encoding='latin1', sep=';', nrows=0).columns.tolist()"
   ]
  },
  {
   "cell_type": "code",
   "execution_count": null,
   "id": "fac2e310",
   "metadata": {},
   "outputs": [],
   "source": [
    "len(cols)"
   ]
  },
  {
   "cell_type": "code",
   "execution_count": null,
   "id": "87b0e32e",
   "metadata": {},
   "outputs": [],
   "source": [
    "cols_description = dict(\n",
    "    {\"dados_participante\": cols[0:12],\n",
    "    \"dados_escola\": [cols[12]] + cols[15:20],\n",
    "    \"dados_local_aplicacao\": [cols[19]] + [cols[22]],\n",
    "    \"dados_prova_objetiva\": cols[23:27] + cols[31:35] + [cols[39]],\n",
    "    \"dados_redacao\": cols[44:51],\n",
    "    \"dados_socioeconomicos\": cols[52:54] + [cols[56]] + [cols[75]]\n",
    "    })\n",
    "\n",
    "cols_description"
   ]
  },
  {
   "cell_type": "markdown",
   "id": "3fb73391",
   "metadata": {},
   "source": []
  },
  {
   "cell_type": "markdown",
   "id": "234de59d",
   "metadata": {},
   "source": [
    "## Dados demográficos"
   ]
  },
  {
   "cell_type": "code",
   "execution_count": null,
   "id": "bcf9d6cc",
   "metadata": {},
   "outputs": [],
   "source": [
    "# Columns to be used in the analysis\n",
    "columns = ['NU_INSCRICAO', 'TP_SEXO', 'TP_FAIXA_ETARIA', 'TP_COR_RACA', 'TP_ESTADO_CIVIL',                               # Dados demográficos\n",
    "            'TP_ESCOLA', 'TP_ST_CONCLUSAO', 'IN_TREINEIRO', 'TP_LINGUA', ]\n",
    "data = pd.read_csv(RAW_DATA_PATH / 'MICRODADOS_ENEM_2023.csv', encoding='latin1', usecols=columns, sep=';')\n",
    "data.info()"
   ]
  },
  {
   "cell_type": "markdown",
   "id": "6aab07bc",
   "metadata": {},
   "source": [
    "Algum número de inscrição repetido?"
   ]
  },
  {
   "cell_type": "code",
   "execution_count": null,
   "id": "2d177d15",
   "metadata": {},
   "outputs": [],
   "source": [
    "data.isnull().mean() * 100"
   ]
  },
  {
   "cell_type": "markdown",
   "id": "c9190bcb",
   "metadata": {},
   "source": [
    "Quantidade de treineiros"
   ]
  },
  {
   "cell_type": "code",
   "execution_count": null,
   "id": "a8244262",
   "metadata": {},
   "outputs": [],
   "source": [
    "data['IN_TREINEIRO'].value_counts(dropna=False)"
   ]
  },
  {
   "cell_type": "code",
   "execution_count": null,
   "id": "e4484933",
   "metadata": {},
   "outputs": [],
   "source": [
    "data['TP_ESCOLA'].value_counts(normalize=True, dropna=False)"
   ]
  },
  {
   "cell_type": "markdown",
   "id": "f612fb1f",
   "metadata": {},
   "source": [
    "## Dados Presença"
   ]
  },
  {
   "cell_type": "code",
   "execution_count": null,
   "id": "693f45b1",
   "metadata": {},
   "outputs": [],
   "source": [
    "data = pd.read_csv(RAW_DATA_PATH / 'MICRODADOS_ENEM_2023.csv', encoding='latin1', usecols=['NO_MUNICIPIO_ESC', 'CO_UF_ESC', 'SG_UF_ESC', 'TP_DEPENDENCIA_ADM_ESC', 'TP_LOCALIZACAO_ESC', 'TP_SIT_FUNC_ESC'], sep=';')# nrows=1_000_000)\n",
    "data.info()"
   ]
  },
  {
   "cell_type": "code",
   "execution_count": null,
   "id": "03c8a0d4",
   "metadata": {},
   "outputs": [],
   "source": [
    "data.isnull().mean() * 100"
   ]
  },
  {
   "cell_type": "code",
   "execution_count": null,
   "id": "3622f73a",
   "metadata": {},
   "outputs": [],
   "source": [
    "data.SG_UF_ESC.value_counts(dropna=False, normalize=True)"
   ]
  },
  {
   "cell_type": "code",
   "execution_count": null,
   "id": "5c1abca9",
   "metadata": {},
   "outputs": [],
   "source": [
    "data.TP_DEPENDENCIA_ADM_ESC.value_counts(dropna=False, normalize=True)"
   ]
  },
  {
   "cell_type": "code",
   "execution_count": null,
   "id": "3aad4fd3",
   "metadata": {},
   "outputs": [],
   "source": [
    "data.TP_LOCALIZACAO_ESC.value_counts(dropna=False, normalize=True)"
   ]
  },
  {
   "cell_type": "code",
   "execution_count": null,
   "id": "8e7d03d5",
   "metadata": {},
   "outputs": [],
   "source": [
    "data.TP_SIT_FUNC_ESC.value_counts(dropna=False, normalize=True)"
   ]
  },
  {
   "cell_type": "markdown",
   "id": "9b825edb",
   "metadata": {},
   "source": [
    "## Apenas Minas Gerais"
   ]
  },
  {
   "cell_type": "code",
   "execution_count": null,
   "id": "85f0acaa",
   "metadata": {},
   "outputs": [],
   "source": [
    "import pandas as pd\n",
    "\n",
    "chunks = pd.read_csv('arquivo.csv', chunksize=100_000)\n",
    "\n",
    "dfs_filtrados = []\n",
    "\n",
    "for chunk in chunks:\n",
    "    filtrado = chunk[chunk['coluna1'] > 10]\n",
    "    dfs_filtrados.append(filtrado)\n",
    "\n",
    "df_final = pd.concat(dfs_filtrados, ignore_index=True)"
   ]
  }
 ],
 "metadata": {
  "kernelspec": {
   "display_name": "data-env",
   "language": "python",
   "name": "python3"
  },
  "language_info": {
   "codemirror_mode": {
    "name": "ipython",
    "version": 3
   },
   "file_extension": ".py",
   "mimetype": "text/x-python",
   "name": "python",
   "nbconvert_exporter": "python",
   "pygments_lexer": "ipython3",
   "version": "3.13.2"
  }
 },
 "nbformat": 4,
 "nbformat_minor": 5
}
