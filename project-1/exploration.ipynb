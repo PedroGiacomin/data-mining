{
 "cells": [
  {
   "cell_type": "markdown",
   "id": "7ab7018d",
   "metadata": {},
   "source": [
    "# Análise do Dataset"
   ]
  },
  {
   "cell_type": "markdown",
   "id": "924bf8ee",
   "metadata": {},
   "source": [
    "O dataset utilizado foram os Microdados do ENEM de 2023, disponíveis no endereço https://www.gov.br/inep/pt-br/acesso-a-informacao/dados-abertos/microdados/enem. O arquivo é disponibilizado no formato ``.csv`` e contém os dados dos 3,9 milhões de participantes do Exame Nacional do Ensino Médio nesse ano. \n",
    "\n",
    "Cada registro no dataset diz respeito a um candidato inscrito, e os dados disponíveis são \n",
    "  1. Dados do participante (escolaridade, faixa etária, raça etc.)\n",
    "  2. Dados da escola onde o participante estudou\n",
    "  3. Dados do local de aplicação de prova\n",
    "  4. Dados da prova objetiva (presença e notas)\n",
    "  5. Dados da redação (presença e notas)\n",
    "  6. Dados do questionário socioeconômico\n",
    "\n",
    "Devido à formatação do banco, cada participante pode ser modelado como uma transação. \n",
    "  - As características binárias podem ser modeladas diretamente como itens. Ex.: Sexo, Presença\n",
    "  - As características categóricas devem ser codificadas em binárias, usando one-hot encoding, por exemplo. Ex.: Escolaridade, Estado\n",
    "  - As características numéricas devem ser agrupadas em faixas (como categorias) e depois codificadas em binárias. Ex.: Nota da redação > 900  ->  Nota alta na redação\n",
    "\n",
    "_Obs.: Os critérios para o agrupamento de variáveis numéricas e categóricas serão melhor abordados a partir da fase 2, e levarão em conta a distribuição dos valores da variável._"
   ]
  },
  {
   "cell_type": "markdown",
   "id": "8d4ee26d",
   "metadata": {},
   "source": [
    "A descrição dos dados é apresentada a seguir\n"
   ]
  },
  {
   "cell_type": "markdown",
   "id": "119902a7",
   "metadata": {},
   "source": [
    "\n",
    "| Coluna               | Descrição                                  | Tipo       |\n",
    "|----------------------|--------------------------------------------|----------  |\n",
    "|**1. Dados do Participante**|    | |\n",
    "| `NU_INSCRICAO`       | Número de inscrição                        | Numérico   |\n",
    "| `TP_FAIXA_ETARIA`    | Faixa etária                               | Categórico |\n",
    "| `TP_SEXO`            | Sexo                                       | Categórico |\n",
    "| `TP_ESTADO_CIVIL`    | Estado Civil                               | Categórico |\n",
    "| `TP_COR_RACA`        | Cor/raça                                   | Categórico |\n",
    "| `TP_NACIONALIDADE`   | Nacionalidade                              | Categórico |\n",
    "| `TP_ST_CONCLUSAO`    | Situação de conclusão do Ensino Médio      | Categórico |\n",
    "| `TP_ANO_CONCLUIU`    | Ano de Conclusão do Ensino Médio           | Categórico |\n",
    "|**2. Dados da escola**|    | |\n",
    "| `CO_MUNICIPIO_ESC`        | Código do município da escola | Numérico   |\n",
    "| `SG_UF_ESC`               | Sigla da Unidade da Federação da escola   | Categórico |\n",
    "| `TP_DEPENDENCIA_ADM_ESC`  | Dependência administrativa da escola      | Categórico |\n",
    "| `TP_LOCALIZACAO_ESC`      | Localização da escola                      | Categórico |\n",
    "| `TP_SIT_FUNC_ESC`         | Situação de funcionamento da escola        | Categórico |\n",
    "|**3. Dados do local de aplicação**|    | |\n",
    "| `CO_MUNICIPIO_PROVA`        | Código do município de aplicação da prova | Numérico   |\n",
    "| `SG_UF_PROVA`               | Sigla da Unidade da Federação de aplicação da prova  | Categórico |\n",
    "|**4. Dados da prova objetiva**|    | |\n",
    "| `TP_PRESENCA_CN`  | Presença na prova objetiva de Ciências da Natureza                    | Categórico |\n",
    "| `TP_PRESENCA_CH`  | Presença na prova objetiva de Ciências Humanas                        | Categórico |\n",
    "| `TP_PRESENCA_LC`  | Presença na prova objetiva de Linguagens e Códigos                    | Categórico |\n",
    "| `TP_PRESENCA_MT`  | Presença na prova objetiva de Matemática                              | Categórico |\n",
    "| `NU_NOTA_CN`      | Nota da prova de Ciências da Natureza                                 | Numérico   |\n",
    "| `NU_NOTA_CH`      | Nota da prova de Ciências Humanas                                     | Numérico   |\n",
    "| `NU_NOTA_LC`      | Nota da prova de Linguagens e Códigos                                 | Numérico   |\n",
    "| `NU_NOTA_MT`      | Nota da prova de Matemática                                           | Numérico   |\n",
    "| `TP_LINGUA`       | Língua Estrangeira                                                    | Categórico |\n",
    "|**5. Dados da redação**|    | |\n",
    "| `TP_STATUS_REDACAO`| Situação da redação do participante                                                                                          | Categórico |\n",
    "| `NU_NOTA_COMP1`    | Nota da competência 1 - Domínio da modalidade escrita formal da Língua Portuguesa                                            | Numérico   |\n",
    "| `NU_NOTA_COMP2`    | Nota da competência 2 - Compreensão da proposta e desenvolvimento do tema                                                    | Numérico   |\n",
    "| `NU_NOTA_COMP3`    | Nota da competência 3 - Seleção e organização de argumentos                                                                  | Numérico   |\n",
    "| `NU_NOTA_COMP4`    | Nota da competência 4 - Uso de mecanismos linguísticos                                                                       | Numérico   |\n",
    "| `NU_NOTA_COMP5`    | Nota da competência 5 - Proposta de intervenção com respeito aos direitos humanos                                            | Numérico   |\n",
    "| `NU_NOTA_REDACAO`  | Nota total da prova de redação                                                                                               | Numérico   |\n",
    "|**6. Dados do questionário socioeconômico**|    | |\n",
    "| `Q002` | Escolaridade da mãe (ou mulher responsável)                                                                                              | Categórico |\n",
    "| `Q003` | Ocupação do pai (ou homem responsável)                                                                                                   | Categórico |\n",
    "| `Q006` | Renda familiar mensal                                                                                                                    | Categórico |\n",
    "| `Q025` | Acesso à Internet na residência                                                                                                          | Categórico |"
   ]
  },
  {
   "cell_type": "code",
   "execution_count": 60,
   "id": "6a3ba2d4",
   "metadata": {},
   "outputs": [],
   "source": [
    "import pathlib\n",
    "import pandas as pd\n",
    "\n",
    "# Directory definitions\n",
    "RAW_DATA_PATH = pathlib.Path('~/data_projects/microdados_enem_2023/DADOS') \n",
    "PROCESSED_DATA_PATH = pathlib.Path.cwd() / 'processed'  \n",
    "\n",
    "# Read the column names from the CSV file\n",
    "cols = pd.read_csv(RAW_DATA_PATH / 'MICRODADOS_ENEM_2023.csv', encoding='latin1', sep=';', nrows=0).columns.tolist()"
   ]
  },
  {
   "cell_type": "code",
   "execution_count": 61,
   "id": "fac2e310",
   "metadata": {},
   "outputs": [
    {
     "data": {
      "text/plain": [
       "76"
      ]
     },
     "execution_count": 61,
     "metadata": {},
     "output_type": "execute_result"
    }
   ],
   "source": [
    "len(cols)"
   ]
  },
  {
   "cell_type": "code",
   "execution_count": 59,
   "id": "87b0e32e",
   "metadata": {},
   "outputs": [
    {
     "data": {
      "text/plain": [
       "{'dados_participante': ['NU_INSCRICAO',\n",
       "  'NU_ANO',\n",
       "  'TP_FAIXA_ETARIA',\n",
       "  'TP_SEXO',\n",
       "  'TP_ESTADO_CIVIL',\n",
       "  'TP_COR_RACA',\n",
       "  'TP_NACIONALIDADE',\n",
       "  'TP_ST_CONCLUSAO',\n",
       "  'TP_ANO_CONCLUIU',\n",
       "  'TP_ESCOLA',\n",
       "  'TP_ENSINO',\n",
       "  'IN_TREINEIRO'],\n",
       " 'dados_escola': ['CO_MUNICIPIO_ESC',\n",
       "  'SG_UF_ESC',\n",
       "  'TP_DEPENDENCIA_ADM_ESC',\n",
       "  'TP_LOCALIZACAO_ESC',\n",
       "  'TP_SIT_FUNC_ESC',\n",
       "  'CO_MUNICIPIO_PROVA'],\n",
       " 'dados_local_aplicacao': ['CO_MUNICIPIO_PROVA', 'SG_UF_PROVA'],\n",
       " 'dados_prova_objetiva': ['TP_PRESENCA_CN',\n",
       "  'TP_PRESENCA_CH',\n",
       "  'TP_PRESENCA_LC',\n",
       "  'TP_PRESENCA_MT',\n",
       "  'NU_NOTA_CN',\n",
       "  'NU_NOTA_CH',\n",
       "  'NU_NOTA_LC',\n",
       "  'NU_NOTA_MT',\n",
       "  'TP_LINGUA'],\n",
       " 'dados_redacao': ['TP_STATUS_REDACAO',\n",
       "  'NU_NOTA_COMP1',\n",
       "  'NU_NOTA_COMP2',\n",
       "  'NU_NOTA_COMP3',\n",
       "  'NU_NOTA_COMP4',\n",
       "  'NU_NOTA_COMP5',\n",
       "  'NU_NOTA_REDACAO'],\n",
       " 'dados_socioeconomicos': ['Q002', 'Q003', 'Q006', 'Q025']}"
      ]
     },
     "execution_count": 59,
     "metadata": {},
     "output_type": "execute_result"
    }
   ],
   "source": [
    "cols_description = dict(\n",
    "    {\"dados_participante\": cols[0:12],\n",
    "    \"dados_escola\": [cols[12]] + cols[15:20],\n",
    "    \"dados_local_aplicacao\": [cols[19]] + [cols[22]],\n",
    "    \"dados_prova_objetiva\": cols[23:27] + cols[31:35] + [cols[39]],\n",
    "    \"dados_redacao\": cols[44:51],\n",
    "    \"dados_socioeconomicos\": cols[52:54] + [cols[56]] + [cols[75]]\n",
    "    })\n",
    "\n",
    "cols_description"
   ]
  },
  {
   "cell_type": "markdown",
   "id": "3fb73391",
   "metadata": {},
   "source": []
  },
  {
   "cell_type": "markdown",
   "id": "234de59d",
   "metadata": {},
   "source": [
    "## Dados demográficos"
   ]
  },
  {
   "cell_type": "code",
   "execution_count": 35,
   "id": "bcf9d6cc",
   "metadata": {},
   "outputs": [
    {
     "name": "stdout",
     "output_type": "stream",
     "text": [
      "<class 'pandas.core.frame.DataFrame'>\n",
      "RangeIndex: 3933955 entries, 0 to 3933954\n",
      "Data columns (total 9 columns):\n",
      " #   Column           Dtype \n",
      "---  ------           ----- \n",
      " 0   NU_INSCRICAO     int64 \n",
      " 1   TP_FAIXA_ETARIA  int64 \n",
      " 2   TP_SEXO          object\n",
      " 3   TP_ESTADO_CIVIL  int64 \n",
      " 4   TP_COR_RACA      int64 \n",
      " 5   TP_ST_CONCLUSAO  int64 \n",
      " 6   TP_ESCOLA        int64 \n",
      " 7   IN_TREINEIRO     int64 \n",
      " 8   TP_LINGUA        int64 \n",
      "dtypes: int64(8), object(1)\n",
      "memory usage: 270.1+ MB\n"
     ]
    }
   ],
   "source": [
    "# Columns to be used in the analysis\n",
    "columns = ['NU_INSCRICAO', 'TP_SEXO', 'TP_FAIXA_ETARIA', 'TP_COR_RACA', 'TP_ESTADO_CIVIL',                               # Dados demográficos\n",
    "            'TP_ESCOLA', 'TP_ST_CONCLUSAO', 'IN_TREINEIRO', 'TP_LINGUA', ]\n",
    "data = pd.read_csv(RAW_DATA_PATH / 'MICRODADOS_ENEM_2023.csv', encoding='latin1', usecols=columns, sep=';')\n",
    "data.info()"
   ]
  },
  {
   "cell_type": "markdown",
   "id": "6aab07bc",
   "metadata": {},
   "source": [
    "Algum número de inscrição repetido?"
   ]
  },
  {
   "cell_type": "code",
   "execution_count": 41,
   "id": "2d177d15",
   "metadata": {},
   "outputs": [
    {
     "data": {
      "text/plain": [
       "NU_INSCRICAO       0.0\n",
       "TP_FAIXA_ETARIA    0.0\n",
       "TP_SEXO            0.0\n",
       "TP_ESTADO_CIVIL    0.0\n",
       "TP_COR_RACA        0.0\n",
       "TP_ST_CONCLUSAO    0.0\n",
       "TP_ESCOLA          0.0\n",
       "IN_TREINEIRO       0.0\n",
       "TP_LINGUA          0.0\n",
       "dtype: float64"
      ]
     },
     "execution_count": 41,
     "metadata": {},
     "output_type": "execute_result"
    }
   ],
   "source": [
    "data.isnull().mean() * 100"
   ]
  },
  {
   "cell_type": "markdown",
   "id": "c9190bcb",
   "metadata": {},
   "source": [
    "Quantidade de treineiros"
   ]
  },
  {
   "cell_type": "code",
   "execution_count": 37,
   "id": "a8244262",
   "metadata": {},
   "outputs": [
    {
     "data": {
      "text/plain": [
       "IN_TREINEIRO\n",
       "0    3313888\n",
       "1     620067\n",
       "Name: count, dtype: int64"
      ]
     },
     "execution_count": 37,
     "metadata": {},
     "output_type": "execute_result"
    }
   ],
   "source": [
    "data['IN_TREINEIRO'].value_counts(dropna=False)"
   ]
  },
  {
   "cell_type": "code",
   "execution_count": 39,
   "id": "e4484933",
   "metadata": {},
   "outputs": [
    {
     "data": {
      "text/plain": [
       "TP_ESCOLA\n",
       "1    0.643829\n",
       "2    0.296531\n",
       "3    0.059639\n",
       "Name: proportion, dtype: float64"
      ]
     },
     "execution_count": 39,
     "metadata": {},
     "output_type": "execute_result"
    }
   ],
   "source": [
    "data['TP_ESCOLA'].value_counts(normalize=True, dropna=False)"
   ]
  },
  {
   "cell_type": "markdown",
   "id": "f612fb1f",
   "metadata": {},
   "source": [
    "## Dados Presença"
   ]
  },
  {
   "cell_type": "code",
   "execution_count": 42,
   "id": "693f45b1",
   "metadata": {},
   "outputs": [
    {
     "name": "stdout",
     "output_type": "stream",
     "text": [
      "<class 'pandas.core.frame.DataFrame'>\n",
      "RangeIndex: 3933955 entries, 0 to 3933954\n",
      "Data columns (total 6 columns):\n",
      " #   Column                  Dtype  \n",
      "---  ------                  -----  \n",
      " 0   NO_MUNICIPIO_ESC        object \n",
      " 1   CO_UF_ESC               float64\n",
      " 2   SG_UF_ESC               object \n",
      " 3   TP_DEPENDENCIA_ADM_ESC  float64\n",
      " 4   TP_LOCALIZACAO_ESC      float64\n",
      " 5   TP_SIT_FUNC_ESC         float64\n",
      "dtypes: float64(4), object(2)\n",
      "memory usage: 180.1+ MB\n"
     ]
    }
   ],
   "source": [
    "data = pd.read_csv(RAW_DATA_PATH / 'MICRODADOS_ENEM_2023.csv', encoding='latin1', usecols=['NO_MUNICIPIO_ESC', 'CO_UF_ESC', 'SG_UF_ESC', 'TP_DEPENDENCIA_ADM_ESC', 'TP_LOCALIZACAO_ESC', 'TP_SIT_FUNC_ESC'], sep=';')# nrows=1_000_000)\n",
    "data.info()"
   ]
  },
  {
   "cell_type": "code",
   "execution_count": 43,
   "id": "03c8a0d4",
   "metadata": {},
   "outputs": [
    {
     "data": {
      "text/plain": [
       "NO_MUNICIPIO_ESC          75.635054\n",
       "CO_UF_ESC                 75.635054\n",
       "SG_UF_ESC                 75.635054\n",
       "TP_DEPENDENCIA_ADM_ESC    75.635054\n",
       "TP_LOCALIZACAO_ESC        75.635054\n",
       "TP_SIT_FUNC_ESC           75.635054\n",
       "dtype: float64"
      ]
     },
     "execution_count": 43,
     "metadata": {},
     "output_type": "execute_result"
    }
   ],
   "source": [
    "data.isnull().mean() * 100"
   ]
  },
  {
   "cell_type": "code",
   "execution_count": 33,
   "id": "3622f73a",
   "metadata": {},
   "outputs": [
    {
     "data": {
      "text/plain": [
       "SG_UF_ESC\n",
       "NaN    0.756351\n",
       "SP     0.047552\n",
       "CE     0.025063\n",
       "MG     0.017024\n",
       "RJ     0.016228\n",
       "PR     0.013784\n",
       "GO     0.011641\n",
       "PE     0.011409\n",
       "BA     0.011046\n",
       "RS     0.010092\n",
       "PA     0.008951\n",
       "MA     0.008103\n",
       "SC     0.008002\n",
       "AM     0.006751\n",
       "PB     0.006322\n",
       "AL     0.005321\n",
       "ES     0.005243\n",
       "DF     0.005113\n",
       "PI     0.004675\n",
       "MT     0.004268\n",
       "RN     0.004264\n",
       "MS     0.003023\n",
       "SE     0.002612\n",
       "RO     0.002595\n",
       "TO     0.001865\n",
       "AP     0.001078\n",
       "AC     0.001045\n",
       "RR     0.000579\n",
       "Name: proportion, dtype: float64"
      ]
     },
     "execution_count": 33,
     "metadata": {},
     "output_type": "execute_result"
    }
   ],
   "source": [
    "data.SG_UF_ESC.value_counts(dropna=False, normalize=True)"
   ]
  },
  {
   "cell_type": "code",
   "execution_count": 28,
   "id": "5c1abca9",
   "metadata": {},
   "outputs": [
    {
     "data": {
      "text/plain": [
       "TP_DEPENDENCIA_ADM_ESC\n",
       "NaN    0.756351\n",
       "2.0    0.170690\n",
       "4.0    0.058371\n",
       "1.0    0.012312\n",
       "3.0    0.002277\n",
       "Name: proportion, dtype: float64"
      ]
     },
     "execution_count": 28,
     "metadata": {},
     "output_type": "execute_result"
    }
   ],
   "source": [
    "data.TP_DEPENDENCIA_ADM_ESC.value_counts(dropna=False, normalize=True)"
   ]
  },
  {
   "cell_type": "code",
   "execution_count": 29,
   "id": "3aad4fd3",
   "metadata": {},
   "outputs": [
    {
     "data": {
      "text/plain": [
       "TP_LOCALIZACAO_ESC\n",
       "NaN    0.756351\n",
       "1.0    0.234587\n",
       "2.0    0.009062\n",
       "Name: proportion, dtype: float64"
      ]
     },
     "execution_count": 29,
     "metadata": {},
     "output_type": "execute_result"
    }
   ],
   "source": [
    "data.TP_LOCALIZACAO_ESC.value_counts(dropna=False, normalize=True)"
   ]
  },
  {
   "cell_type": "code",
   "execution_count": 30,
   "id": "8e7d03d5",
   "metadata": {},
   "outputs": [
    {
     "data": {
      "text/plain": [
       "TP_SIT_FUNC_ESC\n",
       "NaN    0.756351\n",
       "1.0    0.241725\n",
       "4.0    0.000987\n",
       "2.0    0.000809\n",
       "3.0    0.000129\n",
       "Name: proportion, dtype: float64"
      ]
     },
     "execution_count": 30,
     "metadata": {},
     "output_type": "execute_result"
    }
   ],
   "source": [
    "data.TP_SIT_FUNC_ESC.value_counts(dropna=False, normalize=True)"
   ]
  },
  {
   "cell_type": "markdown",
   "id": "9b825edb",
   "metadata": {},
   "source": [
    "## Apenas Minas Gerais"
   ]
  },
  {
   "cell_type": "code",
   "execution_count": null,
   "id": "85f0acaa",
   "metadata": {},
   "outputs": [],
   "source": [
    "import pandas as pd\n",
    "\n",
    "chunks = pd.read_csv('arquivo.csv', chunksize=100_000)\n",
    "\n",
    "dfs_filtrados = []\n",
    "\n",
    "for chunk in chunks:\n",
    "    filtrado = chunk[chunk['coluna1'] > 10]\n",
    "    dfs_filtrados.append(filtrado)\n",
    "\n",
    "df_final = pd.concat(dfs_filtrados, ignore_index=True)"
   ]
  }
 ],
 "metadata": {
  "kernelspec": {
   "display_name": "data-env",
   "language": "python",
   "name": "python3"
  },
  "language_info": {
   "codemirror_mode": {
    "name": "ipython",
    "version": 3
   },
   "file_extension": ".py",
   "mimetype": "text/x-python",
   "name": "python",
   "nbconvert_exporter": "python",
   "pygments_lexer": "ipython3",
   "version": "3.13.2"
  }
 },
 "nbformat": 4,
 "nbformat_minor": 5
}
